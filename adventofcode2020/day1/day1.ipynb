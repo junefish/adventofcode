{
  "nbformat": 4,
  "nbformat_minor": 0,
  "metadata": {
    "colab": {
      "name": "AOC2020day1.ipynb",
      "provenance": [],
      "mount_file_id": "1blm5XZx_2OrKs6MUL4Or7KRq_gRc3WQ8",
      "authorship_tag": "ABX9TyOV0zJV6/9T3bnTRXqqSzQf",
      "include_colab_link": true
    },
    "kernelspec": {
      "name": "python3",
      "display_name": "Python 3.8.3 64-bit",
      "metadata": {
        "interpreter": {
          "hash": "2db524e06e9f5f4ffedc911c917cb75e12dbc923643829bf417064a77eb14d37"
        }
      }
    }
  },
  "cells": [
    {
      "cell_type": "markdown",
      "metadata": {
        "id": "view-in-github",
        "colab_type": "text"
      },
      "source": [
        "<a href=\"https://colab.research.google.com/github/junefish/adventofcode/blob/master/adventofcode2020/day1/day1.ipynb\" target=\"_parent\"><img src=\"https://colab.research.google.com/assets/colab-badge.svg\" alt=\"Open In Colab\"/></a>"
      ]
    },
    {
      "cell_type": "markdown",
      "metadata": {
        "id": "Bs2262eBs1oZ"
      },
      "source": [
        "### --- Day 1: Report Repair ---\n",
        "\n",
        "After saving Christmas five years in a row, you've decided to take a \n",
        "vacation at a nice resort on a tropical island. Surely, Christmas will go on \n",
        "without you.\n",
        "\n",
        "The tropical island has its own currency and is entirely cash-only. The \n",
        "gold coins used there have a little picture of a starfish; the locals just \n",
        "call them stars. None of the currency exchanges seem to have heard of them, \n",
        "but somehow, you'll need to find fifty of these coins by the time you \n",
        "arrive so you can pay the deposit on your room.\n",
        "\n",
        "To save your vacation, you need to get all **fifty stars** by December 25th.\n",
        "\n",
        "Collect stars by solving puzzles. Two puzzles will be made available on \n",
        "each day in the Advent calendar; the second puzzle is unlocked when you \n",
        "complete the first. Each puzzle grants **one star**. Good luck!\n",
        "\n",
        "Before you leave, the Elves in accounting just need you to fix your **expense \n",
        "report** (your puzzle input); apparently, something isn't quite adding up.\n",
        "\n",
        "Specifically, they need you to **find the two entries that sum to 2020** and \n",
        "then multiply those two numbers together.\n",
        "\n",
        "For example, suppose your expense report contained the following:\n",
        "\n",
        "`1721`\n",
        "\n",
        "`979`\n",
        "\n",
        "`366`\n",
        "\n",
        "`299`\n",
        "\n",
        "`675`\n",
        "\n",
        "`1456`\n",
        "\n",
        "In this list, the two entries that sum to `2020` are `1721` and `299`. \n",
        "Multiplying them together produces `1721 * 299 = 514579`, so the correct \n",
        "answer is `514579`.\n",
        "\n",
        "Of course, your expense report is much larger. **Find the two entries that \n",
        "sum to `2020`; what do you get if you multiply them together?**\n"
      ]
    },
    {
      "cell_type": "code",
      "metadata": {
        "colab": {
          "base_uri": "https://localhost:8080/"
        },
        "id": "Hh81NcLBsrOK",
        "outputId": "2477f455-58e2-44ca-8490-2d4aef1332fd"
      },
      "source": [
        "entries = []\n",
        "\n",
        "with open('/content/day1/day1input.txt', 'r') as input:\n",
        "  for line in input:\n",
        "    item = line.split('\\n')\n",
        "    entries.append(int(item[0]))"
      ],
      "execution_count": null,
      "outputs": []
    },
    {
      "cell_type": "code",
      "execution_count": null,
      "metadata": {},
      "outputs": [],
      "source": [
        "for i in range(len(entries)):\n",
        "    for j in range(len(entries)):\n",
        "        sum = entries[i] + entries[j]\n",
        "        if(sum) == 2020:\n",
        "            print(entries[i] * entries[j])\n",
        "            break"
      ]
    },
    {
      "cell_type": "code",
      "execution_count": null,
      "metadata": {},
      "outputs": [],
      "source": [
        "###--- Part Two ---\n",
        "\n",
        "The Elves in accounting are thankful for your help; one of them even offers \n",
        "you a starfish coin they had left over from a past vacation. They offer you \n",
        "a second one if you can find **three** numbers in your expense report that meet \n",
        "the same criteria.\n",
        "\n",
        "`1721`\n",
        "`979`\n",
        "`366`\n",
        "`299`\n",
        "`675`\n",
        "`1456`\n",
        "\n",
        "Using the above example again, the three entries that sum to `2020` are `979`, \n",
        "`366`, and `675`. Multiplying them together produces the answer, `241861950`.\n",
        "\n",
        "In your expense report, **what is the product of the three entries that sum \n",
        "to `2020`?**"
      ]
    },
    {
      "source": [
        "for i in range(len(entries)):\n",
        "    for j in range(len(entries)):\n",
        "        for k in range(len(entries)):\n",
        "            sum = entries[i] + entries[j] + entries[k]\n",
        "            if(sum) == 2020:\n",
        "                print(entries[i] * entries[j] * entries[k])\n",
        "                break"
      ],
      "cell_type": "code",
      "metadata": {
        "id": "SjTZnvlksvW2"
      },
      "execution_count": null,
      "outputs": []
    }
  ]
}