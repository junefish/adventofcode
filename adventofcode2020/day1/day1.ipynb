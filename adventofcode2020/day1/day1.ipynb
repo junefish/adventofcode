{
  "nbformat": 4,
  "nbformat_minor": 0,
  "metadata": {
    "colab": {
      "name": "AOC2020day1.ipynb",
      "provenance": [],
      "mount_file_id": "1blm5XZx_2OrKs6MUL4Or7KRq_gRc3WQ8",
      "authorship_tag": "ABX9TyOV0zJV6/9T3bnTRXqqSzQf",
      "include_colab_link": true
    },
    "kernelspec": {
      "name": "python3",
      "display_name": "Python 3"
    }
  },
  "cells": [
    {
      "cell_type": "markdown",
      "metadata": {
        "id": "view-in-github",
        "colab_type": "text"
      },
      "source": [
        "<a href=\"https://colab.research.google.com/github/junefish/adventofcode/blob/master/adventofcode2020/day1/day1.ipynb\" target=\"_parent\"><img src=\"https://colab.research.google.com/assets/colab-badge.svg\" alt=\"Open In Colab\"/></a>"
      ]
    },
    {
      "cell_type": "markdown",
      "metadata": {
        "id": "Bs2262eBs1oZ"
      },
      "source": [
        "### --- Day 1: Report Repair ---\n",
        "\n",
        "After saving Christmas five years in a row, you've decided to take a \n",
        "vacation at a nice resort on a tropical island. Surely, Christmas will go on \n",
        "without you.\n",
        "\n",
        "The tropical island has its own currency and is entirely cash-only. The \n",
        "gold coins used there have a little picture of a starfish; the locals just \n",
        "call them stars. None of the currency exchanges seem to have heard of them, \n",
        "but somehow, you'll need to find fifty of these coins by the time you \n",
        "arrive so you can pay the deposit on your room.\n",
        "\n",
        "To save your vacation, you need to get all **fifty stars** by December 25th.\n",
        "\n",
        "Collect stars by solving puzzles. Two puzzles will be made available on \n",
        "each day in the Advent calendar; the second puzzle is unlocked when you \n",
        "complete the first. Each puzzle grants **one star**. Good luck!\n",
        "\n",
        "Before you leave, the Elves in accounting just need you to fix your **expense \n",
        "report** (your puzzle input); apparently, something isn't quite adding up.\n",
        "\n",
        "Specifically, they need you to **find the two entries that sum to 2020** and \n",
        "then multiply those two numbers together.\n",
        "\n",
        "For example, suppose your expense report contained the following:\n",
        "\n",
        "`1721`\n",
        "\n",
        "`979`\n",
        "\n",
        "`366`\n",
        "\n",
        "`299`\n",
        "\n",
        "`675`\n",
        "\n",
        "`1456`\n",
        "\n",
        "In this list, the two entries that sum to `2020` are `1721` and `299`. \n",
        "Multiplying them together produces `1721 * 299 = 514579`, so the correct \n",
        "answer is `514579`.\n",
        "\n",
        "Of course, your expense report is much larger. **Find the two entries that \n",
        "sum to `2020`; what do you get if you multiply them together?**\n"
      ]
    },
    {
      "cell_type": "code",
      "metadata": {
        "colab": {
          "base_uri": "https://localhost:8080/"
        },
        "id": "Hh81NcLBsrOK",
        "outputId": "2477f455-58e2-44ca-8490-2d4aef1332fd"
      },
      "source": [
        "entries = []\n",
        "\n",
        "with open('/content/day1/day1input.txt', 'r') as input:\n",
        "  for line in input:\n",
        "    item = line.split('\\n')\n",
        "    entries.append(int(item[0]))\n",
        "\n",
        "print(entries)"
      ],
      "execution_count": 5,
      "outputs": [
        {
          "output_type": "stream",
          "text": [
            "[1895, 1504, 1660, 1775, 1743, 1607, 1267, 1133, 292, 1646, 1285, 1808, 1512, 1839, 1869, 1578, 1318, 1385, 1829, 1800, 1491, 1600, 1290, 1856, 1781, 1881, 1953, 2008, 1681, 1472, 1846, 2010, 1619, 1584, 1849, 1876, 1744, 1980, 1421, 911, 1308, 1762, 1398, 1470, 1974, 1902, 1985, 2001, 1926, 1374, 1678, 1523, 1894, 1597, 1778, 1940, 1362, 1613, 1629, 1473, 1633, 1867, 1838, 1931, 1850, 1776, 1689, 1311, 1947, 1988, 1779, 1381, 1683, 1677, 1675, 1587, 767, 1401, 1412, 1544, 1484, 618, 1755, 1073, 1970, 1735, 1770, 1623, 1665, 1783, 1400, 1892, 1921, 1506, 1978, 1731, 1739, 1515, 1354, 1264, 1394, 1763, 1569, 1453, 1539, 2006, 1586, 1855, 1609, 1729, 1624, 506, 1668, 1803, 1486, 1767, 1720, 1753, 1994, 1718, 1922, 1314, 1250, 1516, 1546, 1625, 1708, 1286, 1993, 1785, 491, 1705, 1924, 1752, 1888, 1651, 1604, 1750, 1547, 1481, 1704, 1851, 904, 1920, 1939, 1277, 1870, 1934, 1617, 1833, 1797, 1817, 1967, 1935, 1914, 1621, 1468, 1859, 1552, 1640, 1709, 1121, 1973, 1343, 1266, 1806, 1360, 1299, 1990, 1356, 1631, 1555, 1811, 1323, 1794, 1550, 1448, 1848, 1826, 1723, 1891, 1302, 1655, 947, 1580, 1908, 1641, 1816, 1701, 1871, 1588, 1843, 1643, 1893, 1866, 1628, 1417, 1795, 1995, 1937]\n"
          ],
          "name": "stdout"
        }
      ]
    },
    {
      "cell_type": "markdown",
      "metadata": {
        "id": "SjTZnvlksvW2"
      },
      "source": [
        ""
      ]
    }
  ]
}